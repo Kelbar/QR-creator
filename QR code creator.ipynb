{
 "cells": [
  {
   "cell_type": "code",
   "execution_count": 1,
   "metadata": {},
   "outputs": [],
   "source": [
    "import qrcode"
   ]
  },
  {
   "cell_type": "code",
   "execution_count": 31,
   "metadata": {},
   "outputs": [],
   "source": [
    "def qrcreator():\n",
    "    print('Welcome to the QR creator\\n')\n",
    "    print('To create a QR code please paste the text or website link that you wish to convert\\n')\n",
    "    qrtext = input('What text would you like to convert?\\n')\n",
    "    qrimage = qrcode.make(qrtext)\n",
    "    return qrimage\n",
    "    \n",
    "def qrsave(qrimage):\n",
    "    save = input('\\nWould you like to save it? Yes = y or No = n\\n').lower()\n",
    "    if save == 'y':\n",
    "        qrname = input('Please select the name of the QR image\\n')\n",
    "        qrimage.save(qrname + '.jpg')\n",
    "        print('The QR have been saved')\n",
    "    else:\n",
    "        print('Thank you for use QR creator')"
   ]
  },
  {
   "cell_type": "code",
   "execution_count": 37,
   "metadata": {},
   "outputs": [
    {
     "name": "stdout",
     "output_type": "stream",
     "text": [
      "Welcome to the QR creator\n",
      "\n",
      "To create a QR code please paste the text or website link that you wish to convert\n",
      "\n",
      "What text would you like to convert?\n",
      "https://github.com/Kelbar\n",
      "\n",
      "Would you like to save it? Yes = y or No = n\n",
      "y\n",
      "Please select the name of the QR image\n",
      "My github\n",
      "The QR have been saved\n"
     ]
    },
    {
     "data": {
      "image/png": "[encoded data removed]",
      "text/plain": [
       "<qrcode.image.pil.PilImage at 0x22db041a0d0>"
      ]
     },
     "execution_count": 37,
     "metadata": {},
     "output_type": "execute_result"
    }
   ],
   "source": [
    "qrimage = qrcreator()\n",
    "\n",
    "qrsave(qrimage)\n",
    "\n",
    "qrimage"
   ]
  },
  {
   "cell_type": "code",
   "execution_count": null,
   "metadata": {},
   "outputs": [],
   "source": []
  }
 ],
 "metadata": {
  "kernelspec": {
   "display_name": "Python 3",
   "language": "python",
   "name": "python3"
  },
  "language_info": {
   "codemirror_mode": {
    "name": "ipython",
    "version": 3
   },
   "file_extension": ".py",
   "mimetype": "text/x-python",
   "name": "python",
   "nbconvert_exporter": "python",
   "pygments_lexer": "ipython3",
   "version": "3.8.5"
  }
 },
 "nbformat": 4,
 "nbformat_minor": 4
}
